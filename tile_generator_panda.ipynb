{
 "cells": [
  {
   "cell_type": "code",
   "execution_count": null,
   "metadata": {},
   "outputs": [],
   "source": [
    "import os\n",
    "from preprocessing.tile_generation import generate_grid\n",
    "from preprocessing.normalization import reinhard_bg\n",
    "\n",
    "working_dir = '/raid/stroke_data/kaggle_strip_ai'\n",
    "\n",
    "test_slides_dir = os.path.join(working_dir, 'train')\n",
    "image_id = \"6fce60_0\"\n",
    "im_size = 512 # Size of tile to be extracted at highest scanning magnification\n",
    "overlap = 0.25 # Overlap percentage for tiles\n",
    "ts_thres = 0.6 # Discard tiles with tissue region less that ts_thres\n",
    "dw_rate = 4 # Tiles downsample rate\n",
    "\n",
    "# Initialize a tile generator\n",
    "tile_generator = generate_grid.TileGeneratorGrid(test_slides_dir,\n",
    "                                                         f\"{image_id}.tif\", masks_dir=None, verbose=False)\n",
    "# Initialize a normalizer\n",
    "tile_normalizer = reinhard_bg.ReinhardNormalizer()\n",
    "# use the pre-computed LAB mean and std values\n",
    "tile_normalizer.fit(None)\n",
    "# Need to specify masks_dir for tile_generator if you want to generate labeled masks for each tile. \n",
    "# Orig_tiles: tiles without normalization; norm_tiles: normalized tiles. \n",
    "orig_tiles, norm_tiles, locations, tissue_masks, label_masks \\\n",
    "            = tile_generator.extract_all_tiles(im_size, overlap, ts_thres, dw_rate, tile_normalizer)"
   ]
  },
  {
   "cell_type": "code",
   "execution_count": null,
   "metadata": {},
   "outputs": [],
   "source": []
  }
 ],
 "metadata": {
  "kernelspec": {
   "display_name": "Python 3",
   "language": "python",
   "name": "python3"
  },
  "language_info": {
   "codemirror_mode": {
    "name": "ipython",
    "version": 3
   },
   "file_extension": ".py",
   "mimetype": "text/x-python",
   "name": "python",
   "nbconvert_exporter": "python",
   "pygments_lexer": "ipython3",
   "version": "3.8.5"
  }
 },
 "nbformat": 4,
 "nbformat_minor": 4
}
