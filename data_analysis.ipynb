{
 "cells": [
  {
   "cell_type": "code",
   "execution_count": 1,
   "metadata": {},
   "outputs": [],
   "source": [
    "import openslide\n",
    "from matplotlib.colors import ListedColormap\n",
    "from skimage import color\n",
    "import skimage.morphology  as skmp"
   ]
  },
  {
   "cell_type": "code",
   "execution_count": 2,
   "metadata": {},
   "outputs": [],
   "source": [
    "import glob\n",
    "import tifffile\n",
    "import numpy as np\n",
    "import cv2\n",
    "import matplotlib.pyplot as plt\n",
    "import pandas as pd\n",
    "import time\n",
    "import skimage.io as io"
   ]
  },
  {
   "cell_type": "markdown",
   "metadata": {},
   "source": [
    "## class distribution"
   ]
  },
  {
   "cell_type": "markdown",
   "metadata": {},
   "source": [
    "### train"
   ]
  },
  {
   "cell_type": "code",
   "execution_count": null,
   "metadata": {},
   "outputs": [],
   "source": [
    "df_train = pd.read_csv('/data/neuro/stroke/kaggle_strip_ai/train.csv')\n",
    "df_train"
   ]
  },
  {
   "cell_type": "code",
   "execution_count": null,
   "metadata": {},
   "outputs": [],
   "source": [
    "print('CE class: ', df_train[df_train['label'] == 'CE'].shape[0])\n",
    "print('LLA class: ', df_train[df_train['label'] == 'LAA'].shape[0])"
   ]
  },
  {
   "cell_type": "markdown",
   "metadata": {},
   "source": [
    "### test"
   ]
  },
  {
   "cell_type": "code",
   "execution_count": null,
   "metadata": {
    "scrolled": true
   },
   "outputs": [],
   "source": [
    "df_test = pd.read_csv('/data/neuro/stroke/kaggle_strip_ai/test.csv')\n",
    "df_test"
   ]
  },
  {
   "cell_type": "markdown",
   "metadata": {},
   "source": [
    "## Data extraction and preprocessing"
   ]
  },
  {
   "cell_type": "code",
   "execution_count": null,
   "metadata": {},
   "outputs": [],
   "source": [
    "all_files = glob.glob('/data/neuro/stroke/kaggle_strip_ai/train/*.tif')\n",
    "all_files"
   ]
  },
  {
   "cell_type": "markdown",
   "metadata": {},
   "source": [
    "### openslide analysis"
   ]
  },
  {
   "cell_type": "code",
   "execution_count": null,
   "metadata": {},
   "outputs": [],
   "source": [
    "slide_path = all_files[0]\n",
    "slide = openslide.OpenSlide(slide_path)"
   ]
  },
  {
   "cell_type": "code",
   "execution_count": null,
   "metadata": {},
   "outputs": [],
   "source": [
    "image_id = slide_path.split('/')[::-1][0].split('.')[0]\n",
    "df_train[df_train['image_id']==str(image_id)]['label']"
   ]
  },
  {
   "cell_type": "code",
   "execution_count": null,
   "metadata": {},
   "outputs": [],
   "source": [
    "print('stored dimenions: ', slide.level_dimensions)\n",
    "print('stored downsampled levels: ', slide.level_downsamples)\n",
    "print('slide_properties: ', slide.properties)"
   ]
  },
  {
   "cell_type": "markdown",
   "metadata": {},
   "source": [
    "### extract thumbnail - lower resolution"
   ]
  },
  {
   "cell_type": "code",
   "execution_count": null,
   "metadata": {},
   "outputs": [],
   "source": [
    "### try exctracting thumbnail using skimage\n",
    "t1 = time.time()\n",
    "resize_factor = 8\n",
    "img = io.imread(slide_path)\n",
    "thumbnail = cv2.resize(img, dsize=None, fx=1/resize_factor, fy=1/resize_factor)\n",
    "print('thumbnail shape: ', thumbnail.shape, 'time: ', time.time() - t1)"
   ]
  },
  {
   "cell_type": "code",
   "execution_count": null,
   "metadata": {},
   "outputs": [],
   "source": [
    "### try exctracting thumbnail using skimage and bicubic interpolation\n",
    "t1 = time.time()\n",
    "resize_factor = 8\n",
    "img = io.imread(slide_path)\n",
    "thumbnail = cv2.resize(img, dsize=None, fx=1/resize_factor, fy=1/resize_factor, interpolation=cv2.INTER_CUBIC)\n",
    "print('thumbnail shape: ', thumbnail.shape, 'time: ', time.time() - t1)"
   ]
  },
  {
   "cell_type": "code",
   "execution_count": null,
   "metadata": {},
   "outputs": [],
   "source": [
    "### try exctracting thumbnail using openslide\n",
    "t1 = time.time()\n",
    "down_rate = 8\n",
    "size = np.array(slide.level_dimensions)[0]//down_rate\n",
    "print(size)\n",
    "thumbnail = np.array(slide.get_thumbnail([size[0], size[1]]).convert('RGB'))\n",
    "print('thumbnail shape: ', thumbnail.shape, 'time: ', time.time() - t1)"
   ]
  },
  {
   "cell_type": "code",
   "execution_count": null,
   "metadata": {},
   "outputs": [],
   "source": [
    "### try exctracting thumbnail using tifffile\n",
    "down_rate = 16\n",
    "tif = tifffile.TiffFile(slide_path)\n",
    "image  = tif.series[0].asarray().astype(np.uint8)\n",
    "thumbnail = cv2.resize(image, (tif.series[0].shape[1]//down_rate,tif.series[0].shape[0]//down_rate), interpolation=cv2.INTER_CUBIC)\n",
    "print('thumbnail shape: ', thumbnail.shape, 'time: ', time.time() - t1)"
   ]
  },
  {
   "cell_type": "code",
   "execution_count": null,
   "metadata": {},
   "outputs": [],
   "source": [
    "plt.figure(figsize=(20,20))\n",
    "plt.imshow(thumbnail, cmap='gray')\n",
    "plt.axis('off')"
   ]
  },
  {
   "cell_type": "code",
   "execution_count": null,
   "metadata": {},
   "outputs": [],
   "source": [
    "from PIL import Image\n",
    "\n",
    "from histolab.filters.image_filters import (\n",
    "    ApplyMaskImage,\n",
    "    Compose,\n",
    "    OtsuThreshold,\n",
    "    RgbToGrayscale,GreenPenFilter,BluePenFilter\n",
    ")\n",
    "from histolab.filters.morphological_filters import BinaryDilation,BinaryErosion,BinaryClosing,BinaryOpening,RemoveSmallObjects,RemoveSmallHoles\n",
    "\n",
    "def composed_filters(image_rgb):\n",
    "    filters = Compose(\n",
    "        [\n",
    "            RgbToGrayscale(),\n",
    "            OtsuThreshold(),\n",
    "#             BinaryDilation(),\n",
    "#             BinaryErosion(),\n",
    "            BinaryClosing(),\n",
    "            RemoveSmallHoles(),\n",
    "#             BinaryClosing(),\n",
    "#             BinaryDilation(),\n",
    "            RemoveSmallObjects(),\n",
    "            ApplyMaskImage(image_rgb),\n",
    "            BluePenFilter(),\n",
    "            GreenPenFilter(),\n",
    "\n",
    "        ]\n",
    "    )\n",
    "    return filters(image_rgb)\n",
    "\n",
    "\n",
    "image_rgb = Image.fromarray(thumbnail)\n",
    "resulting_image = composed_filters(image_rgb)\n"
   ]
  },
  {
   "cell_type": "code",
   "execution_count": null,
   "metadata": {},
   "outputs": [],
   "source": [
    "np.array(resulting_image).shape"
   ]
  },
  {
   "cell_type": "code",
   "execution_count": null,
   "metadata": {},
   "outputs": [],
   "source": [
    "plt.figure(figsize=(20,20))\n",
    "plt.imshow(resulting_image)\n",
    "plt.axis('off')"
   ]
  },
  {
   "cell_type": "code",
   "execution_count": null,
   "metadata": {},
   "outputs": [],
   "source": [
    "from histolab.tiler import GridTiler"
   ]
  },
  {
   "cell_type": "code",
   "execution_count": null,
   "metadata": {},
   "outputs": [],
   "source": [
    "from histolab.slide import Slide\n",
    "slide = Slide(slide_path, processed_path='/data/eredekop/stroke_kaggle/processed')"
   ]
  },
  {
   "cell_type": "code",
   "execution_count": null,
   "metadata": {},
   "outputs": [],
   "source": [
    "plt.imshow(np.array(slide.thumbnail))"
   ]
  },
  {
   "cell_type": "code",
   "execution_count": null,
   "metadata": {},
   "outputs": [],
   "source": [
    "grid_tiles_extractor = GridTiler(\n",
    "   tile_size=(512, 512),\n",
    "   level=0,\n",
    "   check_tissue=True,\n",
    "   pixel_overlap=0, # default\n",
    "   prefix=\"grid/\", # save tiles in the \"grid\" subdirectory of slide's processed_path\n",
    "   suffix=\".png\" # default\n",
    ")"
   ]
  },
  {
   "cell_type": "code",
   "execution_count": null,
   "metadata": {},
   "outputs": [],
   "source": [
    "grid_tiles_extractor.locate_tiles(\n",
    "    slide=slide,\n",
    "    scale_factor=64,\n",
    "    alpha=64,\n",
    "    outline=\"#046C4C\",\n",
    ")"
   ]
  },
  {
   "cell_type": "code",
   "execution_count": null,
   "metadata": {},
   "outputs": [],
   "source": []
  },
  {
   "cell_type": "code",
   "execution_count": null,
   "metadata": {
    "scrolled": true
   },
   "outputs": [],
   "source": [
    "!pip install histolab"
   ]
  },
  {
   "cell_type": "code",
   "execution_count": null,
   "metadata": {
    "scrolled": true
   },
   "outputs": [],
   "source": [
    "!pip install scikit-image==0.18.1"
   ]
  },
  {
   "cell_type": "code",
   "execution_count": null,
   "metadata": {},
   "outputs": [],
   "source": []
  }
 ],
 "metadata": {
  "kernelspec": {
   "display_name": "Python 3",
   "language": "python",
   "name": "python3"
  },
  "language_info": {
   "codemirror_mode": {
    "name": "ipython",
    "version": 3
   },
   "file_extension": ".py",
   "mimetype": "text/x-python",
   "name": "python",
   "nbconvert_exporter": "python",
   "pygments_lexer": "ipython3",
   "version": "3.8.5"
  }
 },
 "nbformat": 4,
 "nbformat_minor": 5
}
